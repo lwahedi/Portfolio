{
 "cells": [
  {
   "cell_type": "markdown",
   "metadata": {},
   "source": [
    "#Preliminary Analyses of Tweets on Rebel Groups in Syria"
   ]
  },
  {
   "cell_type": "markdown",
   "metadata": {},
   "source": [
    "<B>Laila Wahedi</B>"
   ]
  },
  {
   "cell_type": "markdown",
   "metadata": {},
   "source": [
    "Below is part of an exploratory analysis on tweets from rebel groups in Syria. The intent was to play with and understand the data, to get a sense of what inferences might be drawn."
   ]
  },
  {
   "cell_type": "markdown",
   "metadata": {},
   "source": [
    "<b>Import necessary packages,</b> set working directory, and initialize a progress bar for slow processes\n",
    "<br>\n",
    "Note, there exist several versions of oauth2, and they don't all seem to work. I'm not sure why, but stack overflow is full of people with a similar problem. I installed twitter_oauth and used the version of oauth2 within that. urllib to translate search terms to what the API can interpret. json to read the twitter output. Math and time so I can round down when spacing out calls to stay within the rate limit. Numpy for arrays."
   ]
  },
  {
   "cell_type": "code",
   "execution_count": 32,
   "metadata": {
    "collapsed": false
   },
   "outputs": [
    {
     "name": "stdout",
     "output_type": "stream",
     "text": [
      "The rpy2.ipython extension is already loaded. To reload it, use:\n",
      "  %reload_ext rpy2.ipython\n"
     ]
    }
   ],
   "source": [
    "import httplib2\n",
    "import oauth2 as oauth\n",
    "import urllib\n",
    "import json\n",
    "import numpy\n",
    "import scipy\n",
    "import time\n",
    "import sys\n",
    "import rpy2\n",
    "import math\n",
    "from itertools import izip, groupby\n",
    "from IPython.display import clear_output\n",
    "import uuid\n",
    "from IPython.display import HTML, Javascript, display\n",
    "import re\n",
    "\n",
    "%load_ext rpy2.ipython\n",
    "%R library(foreign)\n",
    "%R library(grid)\n",
    "%R library(ggplot2)\n",
    "%matplotlib inline\n",
    "%R library(outliers)\n",
    "%R library(cluster)\n",
    "%R library(fpc)\n",
    "%R library(graphics)\n",
    "%R library(igraph)\n",
    "%R library(\"aod\")\n",
    "\n",
    "workingDir='C:\\\\Users\\\\Laila\\\\Desktop\\\\ISISTweets'\n",
    "%R setwd(\"C:\\\\Users\\\\Laila\\\\Desktop\\\\ISISTweets\")\n",
    "divid = str(uuid.uuid4())\n",
    "pb = HTML(\n",
    "\"\"\"\n",
    "<div style=\"border: 1px solid black; width:500px\">\n",
    "  <div id=\"%s\" style=\"background-color:blue; width:0%%\">&nbsp;</div>\n",
    "</div> \n",
    "\"\"\" % divid)"
   ]
  },
  {
   "cell_type": "markdown",
   "metadata": {},
   "source": [
    "#Pull Twitter Data"
   ]
  },
  {
   "cell_type": "markdown",
   "metadata": {},
   "source": [
    "### Insert your actual access and consumer twitter keys and secrets, and your working directory below"
   ]
  },
  {
   "cell_type": "markdown",
   "metadata": {},
   "source": [
    "This section also pulls in the serch terms and saves them in <b>terms</b>"
   ]
  },
  {
   "cell_type": "code",
   "execution_count": null,
   "metadata": {
    "collapsed": true
   },
   "outputs": [],
   "source": [
    "consumerKey='XXXX' \n",
    "consumerSecret='XXXX'\n",
    "accessToken='XXXX'\n",
    "accessSecret='XXXX'\n",
    "workingDir='C:\\Users\\Laila\\Desktop\\ISISTweets'\n",
    "termFile=open(workingDir + '\\Terms.txt','r')\n",
    "terms=termFile.read().splitlines()\n",
    "termFile.close()"
   ]
  },
  {
   "cell_type": "markdown",
   "metadata": {},
   "source": [
    "The following 3 lines were adapted from the twitter development page, but were modified.\n",
    "https://dev.twitter.com/oauth/overview/single-user\n",
    "Creates a Client used for authenication when making requests from Twitter"
   ]
  },
  {
   "cell_type": "code",
   "execution_count": null,
   "metadata": {
    "collapsed": true
   },
   "outputs": [],
   "source": [
    "consumer = oauth.Consumer(key=consumerKey, secret=consumerSecret)\n",
    "token = oauth.Token(key=accessToken, secret=accessSecret)\n",
    "client = oauth.Client(consumer, token)"
   ]
  },
  {
   "cell_type": "markdown",
   "metadata": {},
   "source": [
    "<b>This section takes search terms from a file, url encodes them, and makes a request to the search API for each search term, decodes json into a python dictionary, then stores it in output variable. It also stores each pull in a text file.</b>\n",
    "<b>terms:</b> List of all search terms. Pulled from Terms.txt above. \n",
    "<b>url:</b> stores the beginning part of url used to request from the API<br>\n",
    "<b>rawOutput</b> is a list of lists, each containing a list of the dictionary of results for each search term.<br>\n",
    "<b>for loop 1:</b> Each call can only collect 100 tweets, and Twitter rate limits to 180 calls per 15 minute period. The first for loop runs every 15 minutes and 5 second to stay within the rate limit. It runs for about five hours.<br>\n",
    "<b>for loop 2:</b> Loops 7 times so that I make 180 calls within every 15 minute period. <br>\n",
    "<b>for loop 3:</b> Loops through each search term. <br>\n",
    "<b>useURL</b> is the full url with the search term encoded. count requests 100 tweets, <b>max_id</b> is a way to index so that each call pulls the next 100 tweets from the search results.<br>\n",
    "<b>client.request</b> makes the actual request to the Twitter API, using the credentials stored in client. This is done withing a for loop so that I can retry when connection errors occur, but not so many times as to get my IP blacklisted by Twitter. <br>\n",
    "Each request is saved in a text file, and is written to rawOutput which is the main data object used by the script. <br>\n",
    "Note: the original dataset only had 5 attributes per tweet, but I am collecting all the attributes available in a Tweet. "
   ]
  },
  {
   "cell_type": "code",
   "execution_count": null,
   "metadata": {
    "collapsed": true
   },
   "outputs": [],
   "source": [
    "url='https://api.twitter.com/1.1/search/tweets.json?'\n",
    "rawOutput=[]\n",
    "max_ids=[]\n",
    "iteration= 0\n",
    "for period in range(0,20):\n",
    "    for rep in range(0,int(math.floor(180/len(terms)))):#7 times per 15min\n",
    "        termCount=0\n",
    "        for index, term in enumerate(terms):\n",
    "            if iteration==0:#don't have a max_id on the first iteration\n",
    "                urlUse=(url+urllib.urlencode({'q' : term})+'&count='+str(100))\n",
    "                rawOutput.append([])\n",
    "                max_ids.append([])\n",
    "            else:\n",
    "                urlUse=(url+urllib.urlencode({'q' : term})+\\\n",
    "                        '&count='+str(100)+'&max_id='+str(max_ids[termCount]-1))\n",
    "            for i in range(0,4): #to catch and retry when there are errors\n",
    "                try:\n",
    "                    pull=client.request(urlUse)[1]#collect the data\n",
    "                except Exception:\n",
    "                    print 'error'\n",
    "                    time.sleep(15)\n",
    "                    pass\n",
    "                else:\n",
    "                    break\n",
    "            fileName = \"{}_{}_{}.txt\".format(str(period),str(rep),str(index))\n",
    "            with open(workingDir + \"\\pulls\\\\\" + fileName, \"w\") as file:\n",
    "                file.write(pull)\n",
    "            rawOutput[termCount]+=[json.loads(pull)]\n",
    "            #Remember the last tweet in max_id:\n",
    "            max_ids[termCount]=rawOutput[termCount][iteration]['search_metadata']['max_id']\n",
    "            termCount+=1\n",
    "        iteration+=1\n",
    "    time.sleep(15*60+5) #wait fifteen minutes\n",
    "print 'done'\n",
    "%store rawOutput #save the workspace, just in case"
   ]
  },
  {
   "cell_type": "markdown",
   "metadata": {},
   "source": [
    "##Load Data\n",
    "<b>Restore from text files</b><br>\n",
    "So that you don't have to query Twitter again.<br>\n",
    "Cycle through each term, time period, and repetition in order to recreate the string, pull the file in, and decode it from json. Store in rawOutput.<br>\n",
    "Won't work if there are missing files, so create placeholders if there are. \n",
    "<b>adjust period and rep ranges if some of the files are removed</b><br>\n",
    "<b>This is slow and requires a lot of memory, so you can also try %store -r to bring rawOutput back from the notebook memory.</b> Alternatively, change period to iterate through 5 periods to use a subset of the data."
   ]
  },
  {
   "cell_type": "code",
   "execution_count": null,
   "metadata": {
    "collapsed": true
   },
   "outputs": [],
   "source": [
    "rawOutput=[]\n",
    "for term in range(0,len(terms)):\n",
    "    rawOutput.append([])\n",
    "for period in range(0,20):\n",
    "    #There was an error and the 7 batch wasn't downloaded\n",
    "    if period == 7:\n",
    "        continue \n",
    "    for rep in range(0,7):\n",
    "        for t in range(0,23):\n",
    "            #inset opening the file\n",
    "            fileName = \"{}_{}_{}.txt\".format(str(period),str(rep),str(t))\n",
    "            with open(workingDir + \"\\pulls\\\\\" + fileName, \"r\") as file:\n",
    "                pull=file.read()\n",
    "            rawOutput[t].append(json.loads(pull))\n",
    "print 'done'"
   ]
  },
  {
   "cell_type": "code",
   "execution_count": null,
   "metadata": {
    "collapsed": true
   },
   "outputs": [],
   "source": [
    "%store -r"
   ]
  },
  {
   "cell_type": "markdown",
   "metadata": {},
   "source": [
    "<b>Import Lisa's ISIS tweet data, split each string into a list.</b><br>\n",
    "decode in order to handle arabic script when splitting by ascii delimeter"
   ]
  },
  {
   "cell_type": "code",
   "execution_count": null,
   "metadata": {
    "collapsed": true
   },
   "outputs": [],
   "source": [
    "isisFile=open(workingDir + '\\isis_tweets.txt','r')\n",
    "isisTweets=file.read(isisFile).splitlines()\n",
    "isisFile.close()\n",
    "for index in range(0,len(isisTweets)):\n",
    "    isisTweets[index]=isisTweets[index].decode('utf8').split(u\"\\u001F\")"
   ]
  },
  {
   "cell_type": "markdown",
   "metadata": {},
   "source": [
    "##Clean and Structure Data\n",
    "###Test quality of original dataset\n",
    "<b>errorList:</b> list of 7 lists, one for each of the 5 variable in the original dataset: hashtag, user, id, time, tweet. One for if there are more than 5 elements, which would suggest a decoding error, and one for if there is more than one of the five variables missing. Holds the id of any item in which the value is missing<br>\n",
    "Note: the error list for the fifth variable is a catchall for not having found anything wrong with the first four when there's still a missing variable. <br>\n",
    "<b>Result:</b> Nothing missing, which makes sense, given how scrubbed the data was. "
   ]
  },
  {
   "cell_type": "code",
   "execution_count": null,
   "metadata": {
    "collapsed": true
   },
   "outputs": [],
   "source": [
    "errorList=[[],[],[],[],[],[],[]]\n",
    "index=0\n",
    "for tweet in isisTweets:\n",
    "    if len(tweet)==4:\n",
    "        if tweet[0]=='#isis':\n",
    "            if tweet[1][1]=='@':\n",
    "                if len(tweet[2])==18:\n",
    "                    if tweet[3][0:4]=='2014':\n",
    "                        errorList[4].append(index)\n",
    "                    else:\n",
    "                        errorList[3].append(index)\n",
    "                else:\n",
    "                    errorList[2].append(index)\n",
    "            else:\n",
    "                errorList[1].append(index)\n",
    "        else:\n",
    "            errorList[0].append(index)\n",
    "    elif len(tweet)>5:\n",
    "        errorList[5].append(index)\n",
    "    elif len(tweet)<4:\n",
    "        errorList[6].append(index)\n",
    "    index+=1\n",
    "    \n",
    "print '1:', len(errorList[0]), ' 2:', len(errorList[1]), \\\n",
    "        ' 3:', len(errorList[2]), ' 4:', len(errorList[3]), \\\n",
    "       ' 5:', len(errorList[4]),' 6:', len(errorList[5]), ' 7:',\\\n",
    "        len(errorList[6])"
   ]
  },
  {
   "cell_type": "markdown",
   "metadata": {},
   "source": [
    "<b>Test completeness of collected data</b> <br>\n",
    "Tweets contain many attributes that can be null. I will check for the presence of several attributes of interest. Since these attributes are generated by the api, they are likely to be valid if present.<br>\n",
    "When the tweet is missing, meaning there were no more relevant tweets provided by the api, all fields are recorded as missing.<br>\n",
    "0) contributor id: the unique id for a given user. Should be an int or long.<br>\n",
    "1) coordinates: location, longitude then latitude of tweet origin. Check if null<br>\n",
    "2) hashtags: list of hashtags on a tweet. Check if empty. Empty does not mean an error, but this output will give a sense of how many have no hashtags to work with.<br>\n",
    "3) favorited: how many people \"liked\" the tweet. check if null.<br>\n",
    "4) text: text of the tweet, check if empty.<br>\n",
    "5) language: language of the tweet. Useful for translating later. check if null.<br>\n",
    "6) reply: user that the tweet replied to. check if null. Absence does not mean an error but this will give a sense of how many are replies.<br>\n",
    "7) retweet count: how many times the tweet was retweeted by others. Should be int.<br>\n",
    "8) witheld in countries: list of countries banning this tweet. check if null.<br>\n",
    "For loop 1: cycle through each term <br>\n",
    "for loop 2: Cycle through each data pull (number stored in iteration)<br>\n",
    "for loop 3: cycle through each tweet in a pull<br>\n",
    "Check for the presence of each item, count if it's missing. Keep track of number of missing by search term.\n",
    "<b>result: </b>Lots of missingness in certain attributes such as coordinates. Also, several of the search terms have fewer tweets than there were pulls, resulting in high missingness under the tweet id category for some search terms."
   ]
  },
  {
   "cell_type": "code",
   "execution_count": null,
   "metadata": {
    "collapsed": true
   },
   "outputs": [],
   "source": [
    "missingInTerm=[]\n",
    "for termInd in range(0,len(terms)):\n",
    "    numMissing=[0,0,0,0,0,0,0,0,0]\n",
    "    for pull in range(0,5*7):\n",
    "        for tweet in range(0,100):\n",
    "            try: \n",
    "                rawOutput[termInd][pull]['statuses'][tweet]['user']['id']\n",
    "                pass\n",
    "            except:\n",
    "                numMissing=[m+1 for m in numMissing]\n",
    "                continue\n",
    "            if type(rawOutput[termInd][pull]['statuses'][tweet]['user']['id'])==int or long:\n",
    "                pass\n",
    "            else:\n",
    "                numMissing[0]+=1\n",
    "            if not rawOutput[termInd][pull]['statuses'][tweet]['coordinates']:\n",
    "                numMissing[1]+=1\n",
    "            if not rawOutput[termInd][pull]['statuses'][tweet]['entities']['hashtags']:\n",
    "                numMissing[2]+=1\n",
    "            if 'favorite_count' not in rawOutput[termInd][pull]['statuses'][tweet]:\n",
    "                numMissing[3]+=1\n",
    "            if not rawOutput[termInd][pull]['statuses'][tweet]['text']:\n",
    "                numMissing[4]+=1\n",
    "            if 'lang' not in rawOutput[termInd][pull]['statuses'][tweet]:\n",
    "                numMissing[5]+=1\n",
    "            if 'in_reply_to_user_id' not in rawOutput[termInd][pull]['statuses'][tweet]:\n",
    "                numMissing[6]+=1\n",
    "            if type(rawOutput[termInd][pull]['statuses'][tweet]['retweet_count'])!=int:\n",
    "                numMissing[7]+=1\n",
    "            if'withheld_in_countries' not in rawOutput[termInd][pull]['statuses'][tweet]:\n",
    "                numMissing[8]+=1            \n",
    "    missingInTerm.append(numMissing)\n",
    "for term in range(0,len(terms)):\n",
    "    print 'term: ', missingInTerm[term]"
   ]
  },
  {
   "cell_type": "markdown",
   "metadata": {},
   "source": [
    "<b>Pull out some useful variables,</b> <br>\n",
    "1)Tweet text <br>\n",
    "2)Tweet ID <br>\n",
    "3)user ID <br>"
   ]
  },
  {
   "cell_type": "code",
   "execution_count": null,
   "metadata": {
    "collapsed": true
   },
   "outputs": [],
   "source": [
    "textAll=[]\n",
    "tweetIDAll=[]\n",
    "userIDAll=[]\n",
    "for termInd in range(0,len(terms)):\n",
    "    textAll.append([])\n",
    "    tweetIDAll.append([])\n",
    "    userIDAll.append([])\n",
    "    for pull in range(0,len(rawOutput[0])):\n",
    "        for tweet in range(0,100):\n",
    "            try:\n",
    "                rawOutput[termInd][pull]\\\n",
    "                ['statuses'][tweet]['id']\n",
    "            except:\n",
    "                continue\n",
    "            textAll[termInd].append(rawOutput\\\n",
    "                                    [termInd][pull]\\\n",
    "                                    ['statuses']\\\n",
    "                                    [tweet]['text'])\n",
    "            tweetIDAll[termInd].append(rawOutput\\\n",
    "                                       [termInd][pull]\\\n",
    "                                       ['statuses']\\\n",
    "                                       [tweet]['id'])\n",
    "            userIDAll[termInd].append(rawOutput\\\n",
    "                                      [termInd][pull]\\\n",
    "                                      ['statuses']\\\n",
    "                                      [tweet]['user']\\\n",
    "                                      ['id'])"
   ]
  },
  {
   "cell_type": "markdown",
   "metadata": {},
   "source": [
    "<b>Check for Redundancy</b><br>\n",
    "Assess separately for each search term. (for loop 1) <br>\n",
    "Count the number of tweets for a term, and the number of unique tweets<br>\n",
    "While I'm at it, also create an index of the sorted tweets, and a list of the index of all the duplicates so they can be deleted later. <br>\n",
    "<b>Results: </b> Turns out there was a lot of redundency. I need to find another way to scroll through the timeline, since it does not appear to be chronological, which means the pagination method suggested by the dev page does not work. "
   ]
  },
  {
   "cell_type": "code",
   "execution_count": null,
   "metadata": {
    "collapsed": true
   },
   "outputs": [],
   "source": [
    "uniqueCount=[]#count of unique tweets\n",
    "totalCount=[]#count of tweets\n",
    "sortIndex=[]#index of sorted tweets\n",
    "keepIndex=[]#unique tweet index\n",
    "for t in range(0,len(terms)):#for each term\n",
    "    #unique and total tweets for term\n",
    "    unique=1\n",
    "    total=1\n",
    "    keep=[]\n",
    "    #sort the tweets chronologically then create index\n",
    "    tweets=sorted(tweetIDAll[t])\n",
    "    sortInd=sorted(range(0,len(tweetIDAll[t])),\\\n",
    "                   key=lambda x: tweetIDAll[t][x])\n",
    "    #for each tweet:\n",
    "    for index, tweet in enumerate(tweets[:-1]):\n",
    "        total+=1\n",
    "        #if the tweet is different from next:\n",
    "        if tweet != tweets[index+1]:\n",
    "            unique+=1\n",
    "            keep.append(index)\n",
    "    #only keep index of unique sorted tweets\n",
    "    sortIndTemp=[]\n",
    "    for k in keep:\n",
    "        sortIndTemp.append(sortInd[k])\n",
    "    #store vars in lists before moving on\n",
    "    sortInd=sorted(sortIndTemp)\n",
    "    uniqueCount.append(unique)\n",
    "    totalCount.append(total)\n",
    "    sortIndex.append(sortInd)\n",
    "    keepIndex.append(keep)\n",
    "print uniqueCount\n",
    "print totalCount"
   ]
  },
  {
   "cell_type": "markdown",
   "metadata": {},
   "source": [
    "###Create Adjacency Matrix (To be used later)\n",
    "<b>Identify unique users</b><br>\n",
    "Similar to the loop above, but for users. Stores index of unique values for use in creating the adjacency matrix below. "
   ]
  },
  {
   "cell_type": "code",
   "execution_count": null,
   "metadata": {
    "collapsed": true
   },
   "outputs": [],
   "source": [
    "sortUserIndex=[]\n",
    "keepUserIndex=[]\n",
    "for t in range(0,len(terms)):#loop through each term\n",
    "    keep=[]\n",
    "    #sort users numerically\n",
    "    users=sorted(userIDAll[t])\n",
    "    sortInd=sorted(range(0,len(userIDAll[t])),\\\n",
    "                   key=lambda x: userIDAll[t][x])\n",
    "    #loop through users tweeting this term.\n",
    "    #if unique, store index\n",
    "    for index, user in enumerate(users[:-1]):\n",
    "        if user != users[index+1]:\n",
    "            keep.append(index)\n",
    "    #only keep the sorted index of unique users:\n",
    "    sortIndTemp=[]\n",
    "    for k in keep:\n",
    "        sortIndTemp.append(sortInd[k])\n",
    "    sortInd=sorted(sortIndTemp)#put back in order\n",
    "    sortUserIndex.append(sortInd)\n",
    "    keepUserIndex.append(keep)\n",
    "print 'done'"
   ]
  },
  {
   "cell_type": "markdown",
   "metadata": {},
   "source": [
    "<b>Import data if this is a new session</b>"
   ]
  },
  {
   "cell_type": "markdown",
   "metadata": {},
   "source": [
    "<b>Create adjacency matrix<b><br>\n",
    "Matrix of search results by search results. A given cell gives the number of users who tweeted about both.<br>\n",
    "1)create lists of users<br>\n",
    "2)create array<br>\n",
    "3)compare users, add numbers to array<br>"
   ]
  },
  {
   "cell_type": "code",
   "execution_count": null,
   "metadata": {
    "collapsed": true
   },
   "outputs": [],
   "source": [
    "#create list of users unique users for each term\n",
    "usersAll=[]\n",
    "for t in range(0,len(terms)):#for term\n",
    "    usersTerm=[]\n",
    "    for ind in sortUserIndex[t]:#for unique user\n",
    "        usersTerm.append(userIDAll[t][ind])#store\n",
    "    usersAll.append(usersTerm)#store in user list\n",
    "#create array\n",
    "adjMat=scipy.zeros((len(terms),len(terms)))\n",
    "#Populate array.\n",
    "for t1 in range(0,len(terms)):#for term\n",
    "    for u1 in usersAll[t1]:#for user in term\n",
    "        #for second dimension of term\n",
    "        for t2 in range(0,len(terms[t1:])):\n",
    "            if t1==t2:#skip if diagonol\n",
    "                continue\n",
    "            #if user posted about second term\n",
    "            if u1 in usersAll[t2]:\n",
    "                adjMat[t1,t2]+=1#store in matrix\n",
    "                adjMat[t2,t1]+=1#symmetrical\n",
    "#fill diagonol with total users. \n",
    "for t1 in range(0,len(terms)):\n",
    "    adjMat[t1,t1]=len(usersAll[t1])\n",
    "#save\n",
    "numpy.savetxt(\"userAdjacencyMat.csv\", adjMat, delimiter=\",\")"
   ]
  },
  {
   "cell_type": "markdown",
   "metadata": {},
   "source": [
    "<b>Process</b>\n",
    "Pull out text, create index structures of the same shape storing the term, pull, and tweet number. Create another structure to indicate whether the tweet is in English\n",
    "<br>\n",
    "Note: Redundant to data extraction above, but useful for when pulling in the extant json files after already having validated and cleaned the data."
   ]
  },
  {
   "cell_type": "code",
   "execution_count": 4,
   "metadata": {
    "collapsed": false
   },
   "outputs": [
    {
     "name": "stdout",
     "output_type": "stream",
     "text": [
      "22\n",
      "\n"
     ]
    }
   ],
   "source": [
    "text_struct = []\n",
    "pull_struct = []\n",
    "tweet_struct = []\n",
    "lang_struct=[]\n",
    "print 'starting'\n",
    "for term in range(0,len(rawOutput)):\n",
    "    clear_output()\n",
    "    print term\n",
    "    print\n",
    "    text_struct.append([])\n",
    "    pull_struct.append([])\n",
    "    tweet_struct.append([])\n",
    "    lang_struct.append([])\n",
    "    for pull in range(0,len(rawOutput[term])):\n",
    "        for tweet in range(0,len(rawOutput[term][pull]['statuses'])):\n",
    "            text_struct[term].append(rawOutput[term][pull]['statuses'][tweet]['text'])\n",
    "            if rawOutput[term][pull]['statuses'][tweet]['lang'] == 'en':\n",
    "                lang_struct[term].append(1)\n",
    "            else:\n",
    "                lang_struct[term].append(0)\n",
    "            pull_struct[term].append(pull)\n",
    "            tweet_struct[term].append(tweet)"
   ]
  },
  {
   "cell_type": "markdown",
   "metadata": {},
   "source": [
    "<b>Check how much english there is: </b>"
   ]
  },
  {
   "cell_type": "code",
   "execution_count": 6,
   "metadata": {
    "collapsed": false
   },
   "outputs": [
    {
     "name": "stdout",
     "output_type": "stream",
     "text": [
      "3273  of  3455\n",
      "647  of  755\n",
      "303  of  356\n",
      "137  of  142\n",
      "222  of  225\n",
      "168  of  200\n",
      "11  of  12\n",
      "191  of  273\n",
      "14  of  16\n",
      "98  of  99\n",
      "4  of  4\n",
      "2338  of  3191\n",
      "9388  of  13379\n",
      "201  of  208\n",
      "11960  of  14000\n",
      "4  of  28\n",
      "230  of  398\n",
      "11575  of  14000\n",
      "12966  of  14000\n",
      "2753  of  3720\n",
      "12231  of  14000\n",
      "8706  of  14000\n",
      "494  of  569\n"
     ]
    }
   ],
   "source": [
    "for i in range(0,23):\n",
    "    print sum(lang_struct[i]), ' of ', len(lang_struct[i])"
   ]
  },
  {
   "cell_type": "markdown",
   "metadata": {},
   "source": [
    "<b>Remove non-english tweets from my dataset</b>\n",
    "<br>\n",
    "The majority of the tweets are in English, so at this stage it's safe to exclude the rest. The Google API charges now, and the Bing API doesn't detect the language, so until I figure out how to translate, I'll exclude the non-English tweets\n",
    "Create a list for each term containing all english tweets, and corresponding index lists. "
   ]
  },
  {
   "cell_type": "code",
   "execution_count": 5,
   "metadata": {
    "collapsed": false
   },
   "outputs": [],
   "source": [
    "text_structE  = []\n",
    "pull_structE  = []\n",
    "tweet_structE = []\n",
    "for term in range(0,len(text_struct)):\n",
    "    text_structE.append([val for i,val in izip(lang_struct[term], text_struct[term]) if i])\n",
    "    pull_structE.append([val for i,val in izip(lang_struct[term], pull_struct[term]) if i])\n",
    "    tweet_structE.append([val for i,val in izip(lang_struct[term], tweet_struct[term]) if i])\n"
   ]
  },
  {
   "cell_type": "markdown",
   "metadata": {},
   "source": [
    "<b>Remove duplicates</b> from Lisa's dataset, then pull out the text to prepare for sentiment analysis. Store text in itweetText. "
   ]
  },
  {
   "cell_type": "code",
   "execution_count": 10,
   "metadata": {
    "collapsed": false
   },
   "outputs": [
    {
     "name": "stdout",
     "output_type": "stream",
     "text": [
      "226592 removed\n"
     ]
    }
   ],
   "source": [
    "isisTweets.sort()\n",
    "isisTweetsUnique=list(isisTweets for isisTweets, var in groupby(isisTweets))\n",
    "print(str(len(isisTweets)-len(isisTweetsUnique)) + ' removed')\n",
    "\n",
    "itweetText=[]\n",
    "for tweet in isisTweetsUnique:\n",
    "    itweetText.append(tweet[4])"
   ]
  },
  {
   "cell_type": "markdown",
   "metadata": {},
   "source": [
    "# Exploratory Analyses"
   ]
  },
  {
   "cell_type": "markdown",
   "metadata": {},
   "source": [
    "### Sentiment/Affect-Valence Analysis"
   ]
  },
  {
   "cell_type": "markdown",
   "metadata": {},
   "source": [
    "<b>clean text for sentiment analysis.</b><br>\n",
    "-Clean words. <br>\n",
    "-Remove numerals and punctuation <br>\n",
    "-Pass into R for analysis. <br>\n",
    "Separate cells for my data and original data so they can be run separately and input separately. It's easier to separate the analysis since they have slightly different structures. "
   ]
  },
  {
   "cell_type": "code",
   "execution_count": 7,
   "metadata": {
    "collapsed": false
   },
   "outputs": [
    {
     "name": "stdout",
     "output_type": "stream",
     "text": [
      "22\n"
     ]
    }
   ],
   "source": [
    "text_structEC=text_structE\n",
    "\n",
    "print 'cleaning tweets'\n",
    "for term in range(0,len(text_structE)):\n",
    "    clear_output()\n",
    "    print term\n",
    "    for tweet in range(0,len(text_structEC[term])):\n",
    "        text_structEC[term][tweet]=re.sub(r\"'\", r\"\", text_structEC[term][tweet])\n",
    "        text_structEC[term][tweet]=re.sub(r'[\\W\\d]', r' ', text_structEC[term][tweet])\n",
    "   \n",
    "%R text_structEC<-list()\n",
    "for term in range(0,len(text_structEC)):\n",
    "    v = text_structEC[term]\n",
    "    %R -i v\n",
    "    %R -i term\n",
    "    %R text_structEC[[term+1]]<-v"
   ]
  },
  {
   "cell_type": "code",
   "execution_count": null,
   "metadata": {
    "collapsed": false
   },
   "outputs": [],
   "source": [
    "itweetTextC=itweetText\n",
    "for tweet in range(0,len(itweetTextC)):\n",
    "    itweetTextC[tweet]=re.sub(r\"'\", r\"\", itweetTextC[tweet])\n",
    "    itweetTextC[tweet]=re.sub(r'[\\W\\d]', r' ', itweetTextC[tweet])"
   ]
  },
  {
   "cell_type": "markdown",
   "metadata": {},
   "source": [
    "<b>Workaround for rpy2</b><br>\n",
    "Python crashes every time I try to transfer the isis tweet text into R, so I have a manual workaround. <br>\n",
    "1) write it to a text file, <br>\n",
    "2) manually change the extention to .csv, <br>\n",
    "3) import to R in R itself, (still crashes when importing through rpy2)<br>\n",
    "4) save the file as a .RData <br>\n",
    "5) import. rpy2 is really buggy, and executing the same commands into ipython using rpy2 crashes the notebook. <br>\n",
    "<b>Do not need to run this code</b> because the file should already be saved.\n",
    "<br>Note: in the future, use Beaker Objects"
   ]
  },
  {
   "cell_type": "code",
   "execution_count": 13,
   "metadata": {
    "collapsed": false
   },
   "outputs": [
    {
     "name": "stdout",
     "output_type": "stream",
     "text": [
      "open\n"
     ]
    }
   ],
   "source": [
    "itweetText=[]\n",
    "isisTweets=[]\n",
    "with open(workingDir+'\\\\isisTweetWords.txt','w') as file:\n",
    "    for item in itweetTextC:\n",
    "        file.write(item+'\\n')"
   ]
  },
  {
   "cell_type": "markdown",
   "metadata": {},
   "source": [
    "Change extension to .csv, and execute the following lines in R itself:\n",
    "<br>isisTwitterWords<-read.csv('C:\\\\Users\\\\Laila\\\\Desktop\\\\ISISTweets\\\\isisTweetWords.csv', headers=FALSE)\n",
    "<br>tweetWords<-tweetWords[[1]]\n",
    "<br>tweetWords<- data.frame(lapply(tweetWords, as.character), stringsAsFactors=FALSE)<br>\n",
    "<i><u>From:</u> http://stackoverflow.com/questions/2851015/convert-data-frame-columns-from-factors-to-characters </i>\n",
    "<br>save(itweetWords, file = 'C:\\\\Users\\\\Laila\\\\Desktop\\\\ISISTweets\\\\isisTweetWords.RData')\n",
    "<br>Then import the rdata file.<br> \n",
    "Note, entering the above into rpy2, does not work. I tried:\n",
    "<br><u>Try 1: </u>\n",
    "<br>%R -i itweetTextC\n",
    "<br><u>Try 2:</u>\n",
    "<br> %R itweetWords<- read.csv ('C:\\\\Users\\\\Laila\\\\Desktop\\\\ISISTweets\\\\isisTweetWords.csv', header=FALSE)"
   ]
  },
  {
   "cell_type": "code",
   "execution_count": 8,
   "metadata": {
    "collapsed": false
   },
   "outputs": [
    {
     "data": {
      "text/plain": [
       "array(['itweetWords'], \n",
       "      dtype='|S11')"
      ]
     },
     "execution_count": 8,
     "metadata": {},
     "output_type": "execute_result"
    }
   ],
   "source": [
    "%R load(\"isisTweetWords.RData\", verbose=FALSE)"
   ]
  },
  {
   "cell_type": "markdown",
   "metadata": {},
   "source": [
    "<b>Sentiment Analysis (pt 1)</b><br>\n",
    "\n",
    "Import the affect dictionary. Taken from:<br>\n",
    "<i>Warriner, A.B., Kuperman, V., & Brysbaert, M. (2013). Norms of valence, arousal, and dominance for 13,915 English lemmas. Behavior Research Methods, 45, 1191-1207.</i><br><br>\n",
    "<u>Warning:</u> Rpy2 on windows does not actually show you most of the output from R, you have to store it in variables and pull them back into python. No clue what the output will look like on a mac. In fact, it's so buggy on windows and I've had to do so many workarounds, I have no clue how this will run on a mac at all.<br>\n",
    "<u>Process</u><br>\n",
    "1) Pull in affect dictionary<br>\n",
    "2) loop through terms, tweets, and words.<br>\n",
    "3) if the word is in the dictionary, store the affect rating<br>\n",
    "4) text_struct_affect contains a list for each term. Each term has a list of tweets, each tweet has a list of affect ratings. "
   ]
  },
  {
   "cell_type": "code",
   "execution_count": 460,
   "metadata": {
    "collapsed": false
   },
   "outputs": [],
   "source": [
    "%%R \n",
    "affDict<-read.csv(\"affectDict.csv\",header=TRUE,row.names=1)\n",
    "\n",
    "text_struct_affect <- list()\n",
    "for (term in 1:length(text_structEC)) {\n",
    "  termList <-list()\n",
    "  for (tweet in 1:length(text_structEC[[term]])){\n",
    "      TwordList<-unlist(strsplit(text_structEC[[term]][tweet], '[ ]'))\n",
    "      TaffectList<- list()\n",
    "      for (word in 1:length(TwordList)){\n",
    "        if(!is.na(affDict[tolower(TwordList[[word]]),])){\n",
    "            TaffectList[[length(TaffectList)+1]]<-affDict[tolower(TwordList[[word]]),]\n",
    "        }\n",
    "      }\n",
    "      if(length(TaffectList)>0){termList[[tweet]]=TaffectList}\n",
    "  }\n",
    "  text_struct_affect[[term]]<-termList\n",
    "}"
   ]
  },
  {
   "cell_type": "markdown",
   "metadata": {},
   "source": [
    "<b>Sentiment Analysis (Pt 2)</b><br>\n",
    "-loop through tweets, and words.<br>\n",
    "-if the word is in the dictionary, store the affect rating<br>\n",
    "-iTweets (for isisTweets, the original dataset) contains a list of affect ratings for each tweet<br>\n",
    "-<u>Note</u>: This takes a <i>really</i> long time to run, so I usually run it on a subset. To change the size of this subset on line 2. I'm not sure it will work with the whole dataset, because I run out of memory in the workspace as it is. Parallel process with subsets on separate notebooks instances."
   ]
  },
  {
   "cell_type": "code",
   "execution_count": 461,
   "metadata": {
    "collapsed": false
   },
   "outputs": [],
   "source": [
    "%%R\n",
    "subS<-10000\n",
    "iTweets <-list()\n",
    "for (tweet in 1:length(itweetWords[1:subS])) {\n",
    "    TwordList<-unlist(strsplit(itweetWords[tweet][[1]],'[ ]'))\n",
    "    TaffectList<-list()\n",
    "    for (word in 1:length(TwordList)) {\n",
    "        if(!is.na(affDict[tolower(TwordList[[word]]),])){\n",
    "          TaffectList[[length(TaffectList)+1]]<-affDict[tolower(TwordList[[word]]),]}\n",
    "    }\n",
    "    if(length(TaffectList)>0){iTweets[[tweet]]=TaffectList}\n",
    "}"
   ]
  },
  {
   "cell_type": "markdown",
   "metadata": {},
   "source": [
    "#### Bin each word's affect by valence:"
   ]
  },
  {
   "cell_type": "markdown",
   "metadata": {},
   "source": [
    "Create data frame for each search term and the original data with a row for each tweet, and a column for each binning of affect, from very negative to very positive. For a given row/tweet, add one to binning column for every word within that category. Include one more row for the total number of words, and divide the rest by this number at the end. <br>\n",
    "<b>clustVar:</b> list of dataframes, one for each search term. One for the original twitter data.\n",
    "<b>data frames:</b>The rows are: number of tweets. The columns are: very negative, moderately negative, neutral, moderately positive, very positive. Each cell shows the percentage of words in a given tweet that falls in that category. Row has all zeros if none of the words could be classified. This is especially prevalent in the original data, where many of the tweets aren't in english. This could not be sorted out ahead of time because the google translate API costs money now, and the the original dataset did not include the information"
   ]
  },
  {
   "cell_type": "code",
   "execution_count": 462,
   "metadata": {
    "collapsed": false
   },
   "outputs": [],
   "source": [
    "%%R\n",
    "clusterVar=list()\n",
    "colNms=c('vneg','mneg','nt','mpos','vpos','tot','val')\n",
    "for(term in 1:length(text_struct_affect)){\n",
    "    tmpMat=matrix(0,length(text_struct_affect[[term]]),7)\n",
    "    TermClustVars=data.frame(tmpMat)\n",
    "    colnames(TermClustVars)<-colNms\n",
    "    for(tweet in 1:length(text_struct_affect[[term]])){\n",
    "        tmpVect<-c(0,0,0,0,0,0,0)\n",
    "        if (length(text_struct_affect[[term]][[tweet]])>0){\n",
    "        for (el in 1:length(text_struct_affect[[term]][[tweet]])){\n",
    "            val<-text_struct_affect[[term]][[tweet]][[el]]\n",
    "            tmpVect[7]=tmpVect[7]+val\n",
    "            if(val<=-2){tmpVect[c(1,6)]=tmpVect[c(1,6)]+1\n",
    "            } else if(val<=-.5){tmpVect[c(2,6)]=tmpVect[c(2,6)]+1\n",
    "            } else if(val<=.5){tmpVect[c(3,6)]=tmpVect[c(3,6)]+1\n",
    "            } else if(val<=2){tmpVect[c(4,6)]=tmpVect[c(4,6)]+1\n",
    "            } else if(val<=5){tmpVect[c(5,6)]=tmpVect[c(5,6)]+1}\n",
    "        }\n",
    "        tmpVect[1:5]<-tmpVect[1:5]/tmpVect[6]}\n",
    "        TermClustVars[tweet,]<-tmpVect\n",
    "    }\n",
    "    clusterVar[[term]]<-TermClustVars\n",
    "}"
   ]
  },
  {
   "cell_type": "code",
   "execution_count": 463,
   "metadata": {
    "collapsed": false
   },
   "outputs": [],
   "source": [
    "%%R\n",
    "tmpMat=matrix(0,length(iTweets),7)\n",
    "iClustVars=data.frame(tmpMat)\n",
    "colNms=c('vneg','mneg','nt','mpos','vpos','tot','val')\n",
    "colnames(iClustVars)<-colNms\n",
    "for(tweet in 1:length(iTweets)){\n",
    "    tmpVect<-c(0,0,0,0,0,0,0)\n",
    "    if (length(iTweets[[tweet]])>0){\n",
    "    for (el in 1:length(iTweets[[tweet]])){\n",
    "        val<-iTweets[[tweet]][[el]]\n",
    "        tmpVect[7]=tmpVect[7]+val\n",
    "        if(val<=-2){tmpVect[c(1,6)]=tmpVect[c(1,6)]+1\n",
    "        } else if(val<=-.5){tmpVect[c(2,6)]=tmpVect[c(2,6)]+1\n",
    "        } else if(val<=.5){tmpVect[c(3,6)]=tmpVect[c(3,6)]+1\n",
    "        } else if(val<=2){tmpVect[c(4,6)]=tmpVect[c(4,6)]+1\n",
    "        } else if(val<=5){tmpVect[c(5,6)]=tmpVect[c(5,6)]+1}\n",
    "    }\n",
    "    tmpVect[1:5]<-tmpVect[1:5]/tmpVect[6] }\n",
    "    iClustVars[tweet,]<-tmpVect\n",
    "}\n",
    "clusterVar[[length(text_struct_affect)+1]]<-iClustVars"
   ]
  },
  {
   "cell_type": "markdown",
   "metadata": {},
   "source": [
    "<b>Checkpoint:</b> <br>\n",
    "Save R workspace so you don't have to run the above code each time. <br>\n",
    "Rpy2 crashes a lot, so this checkpoint is important."
   ]
  },
  {
   "cell_type": "code",
   "execution_count": 465,
   "metadata": {
    "collapsed": false
   },
   "outputs": [],
   "source": [
    "%%R \n",
    "save.image(file=\"checkpoint.RData\")"
   ]
  },
  {
   "cell_type": "markdown",
   "metadata": {},
   "source": [
    "<b>Load Checkpoint</b>"
   ]
  },
  {
   "cell_type": "code",
   "execution_count": 1,
   "metadata": {
    "collapsed": false
   },
   "outputs": [],
   "source": [
    "%%R \n",
    "load(\"checkpoint.RData\")"
   ]
  },
  {
   "cell_type": "markdown",
   "metadata": {},
   "source": [
    "### Summary Statistics"
   ]
  },
  {
   "cell_type": "markdown",
   "metadata": {},
   "source": [
    "<b>Prepare to run summary stats on clusterVar dataframes</b>\n",
    "<br>Create a function for easy plotting, taken from the R cookbook:\n",
    "<br><i>http://www.cookbook-r.com/Graphs/Multiple_graphs_on_one_page_(ggplot2)/</i>\n",
    "<br>Make sure you have all the dependencies of ggplot2 installed. It errors out if you don't."
   ]
  },
  {
   "cell_type": "code",
   "execution_count": 467,
   "metadata": {
    "collapsed": false
   },
   "outputs": [],
   "source": [
    "%%R\n",
    "multiplot <- function(..., plotlist=NULL, file, cols=1, layout=NULL) {\n",
    "  require(grid)\n",
    "\n",
    "  # Make a list from the ... arguments and plotlist\n",
    "  plots <- c(list(...), plotlist)\n",
    "\n",
    "  numPlots = length(plots)\n",
    "\n",
    "  # If layout is NULL, then use 'cols' to determine layout\n",
    "  if (is.null(layout)) {\n",
    "    # Make the panel\n",
    "    # ncol: Number of columns of plots\n",
    "    # nrow: Number of rows needed, calculated from # of cols\n",
    "    layout <- matrix(seq(1, cols * ceiling(numPlots/cols)),\n",
    "                    ncol = cols, nrow = ceiling(numPlots/cols))\n",
    "  }\n",
    "\n",
    " if (numPlots==1) {\n",
    "    print(plots[[1]])\n",
    "\n",
    "  } else {\n",
    "    # Set up the page\n",
    "    grid.newpage()\n",
    "    pushViewport(viewport(layout = grid.layout(nrow(layout), ncol(layout))))\n",
    "\n",
    "    # Make each plot, in the correct location\n",
    "    for (i in 1:numPlots) {\n",
    "      # Get the i,j matrix positions of the regions that contain this subplot\n",
    "      matchidx <- as.data.frame(which(layout == i, arr.ind = TRUE))\n",
    "\n",
    "      print(plots[[i]], vp = viewport(layout.pos.row = matchidx$row,\n",
    "                                      layout.pos.col = matchidx$col))\n",
    "    }\n",
    "  }\n",
    "}"
   ]
  },
  {
   "cell_type": "markdown",
   "metadata": {},
   "source": [
    "<b>Summary Statistics</b> for each search term, and the original dataset.<br>\n",
    "-Look at the average calculated valence for each tweet. <br>\n",
    "-Look at histograms to find outliers. <br>\n",
    "-Perform grubbs test to identify outliers<br><br>\n",
    "\n",
    "<u>Note</u>: rpy2 doesn't print into the notebook, at least not on a windows machine, so I'm storing the output in sumList and outlierList, passing it to python and printing it in the next cell."
   ]
  },
  {
   "cell_type": "code",
   "execution_count": 468,
   "metadata": {
    "collapsed": false
   },
   "outputs": [],
   "source": [
    "%%R\n",
    "sumList<-list()\n",
    "Hplots<-list()\n",
    "outlierList<-list()\n",
    "\n",
    "for (term in 1:length(clusterVar)){\n",
    "    Hplots[[term]]<-qplot(clusterVar[[term]]$'val', xlab = term, geom=\"histogram\")\n",
    "    sumList[[term]]<-capture.output(summary(clusterVar[[term]]['val']))\n",
    "    outlierList[[term]]<-grubbs.test(clusterVar[[term]]$'val',two.sided=TRUE)\n",
    "}\n"
   ]
  },
  {
   "cell_type": "markdown",
   "metadata": {},
   "source": [
    "<b>View Summary Statistics</b><br>\n",
    "The original tweets are stored in number 24, the rest are the search terms from my data. "
   ]
  },
  {
   "cell_type": "code",
   "execution_count": 469,
   "metadata": {
    "collapsed": false
   },
   "outputs": [
    {
     "name": "stdout",
     "output_type": "stream",
     "text": [
      "Unable to unlink tempfile c:\\users\\laila\\appdata\\local\\temp\\tmpbvvuxc\n",
      "[[1]]\r\n",
      "\r\n",
      "[1] \"      val         \" \" Min.   :-11.830  \" \" 1st Qu.:  2.270  \"\r\n",
      "\r\n",
      "[4] \" Median :  3.580  \" \" Mean   :  3.592  \" \" 3rd Qu.:  5.510  \"\r\n",
      "\r\n",
      "[7] \" Max.   : 15.160  \"\r\n",
      "\r\n",
      "\r\n",
      "\r\n",
      "[[2]]\r\n",
      "\r\n",
      "[1] \"      val       \" \" Min.   :-5.19  \" \" 1st Qu.: 0.04  \" \" Median : 1.26  \"\r\n",
      "\r\n",
      "[5] \" Mean   : 1.82  \" \" 3rd Qu.: 3.59  \" \" Max.   :13.91  \"\r\n",
      "\r\n",
      "\r\n",
      "\r\n",
      "[[3]]\r\n",
      "\r\n",
      "[1] \"      val         \" \" Min.   :-6.9500  \" \" 1st Qu.:-1.4000  \"\r\n",
      "\r\n",
      "[4] \" Median :-0.1200  \" \" Mean   : 0.1445  \" \" 3rd Qu.: 2.4900  \"\r\n",
      "\r\n",
      "[7] \" Max.   : 7.8200  \"\r\n",
      "\r\n",
      "\r\n",
      "\r\n",
      "[[4]]\r\n",
      "\r\n",
      "[1] \"      val         \" \" Min.   :-7.1400  \" \" 1st Qu.:-2.7600  \"\r\n",
      "\r\n",
      "[4] \" Median :-0.5400  \" \" Mean   :-0.9162  \" \" 3rd Qu.: 0.8600  \"\r\n",
      "\r\n",
      "[7] \" Max.   : 8.2400  \"\r\n",
      "\r\n",
      "\r\n",
      "\r\n",
      "[[5]]\r\n",
      "\r\n",
      "[1] \"      val         \" \" Min.   :-6.1100  \" \" 1st Qu.: 1.0300  \"\r\n",
      "\r\n",
      "[4] \" Median : 1.0300  \" \" Mean   : 0.9296  \" \" 3rd Qu.: 1.0300  \"\r\n",
      "\r\n",
      "[7] \" Max.   : 5.4200  \"\r\n",
      "\r\n",
      "\r\n",
      "\r\n",
      "[[6]]\r\n",
      "\r\n",
      "[1] \"      val        \" \" Min.   :-2.990  \" \" 1st Qu.: 1.070  \"\r\n",
      "\r\n",
      "[4] \" Median : 3.390  \" \" Mean   : 3.185  \" \" 3rd Qu.: 3.950  \"\r\n",
      "\r\n",
      "[7] \" Max.   : 9.630  \"\r\n",
      "\r\n",
      "\r\n",
      "\r\n",
      "[[7]]\r\n",
      "\r\n",
      "[1] \"      val         \" \" Min.   :-1.1600  \" \" 1st Qu.:-1.1600  \"\r\n",
      "\r\n",
      "[4] \" Median :-1.1600  \" \" Mean   :-0.4736  \" \" 3rd Qu.: 0.3500  \"\r\n",
      "\r\n",
      "[7] \" Max.   : 0.3500  \"\r\n",
      "\r\n",
      "\r\n",
      "\r\n",
      "[[8]]\r\n",
      "\r\n",
      "[1] \"      val        \" \" Min.   :-7.960  \" \" 1st Qu.:-2.300  \"\r\n",
      "\r\n",
      "[4] \" Median :-2.300  \" \" Mean   :-1.001  \" \" 3rd Qu.: 0.050  \"\r\n",
      "\r\n",
      "[7] \" Max.   : 6.300  \"\r\n",
      "\r\n",
      "\r\n",
      "\r\n",
      "[[9]]\r\n",
      "\r\n",
      "[1] \"      val         \" \" Min.   :-1.1600  \" \" 1st Qu.:-1.1600  \"\r\n",
      "\r\n",
      "[4] \" Median : 1.6400  \" \" Mean   : 0.7443  \" \" 3rd Qu.: 1.6475  \"\r\n",
      "\r\n",
      "[7] \" Max.   : 4.2400  \"\r\n",
      "\r\n",
      "\r\n",
      "\r\n",
      "[[10]]\r\n",
      "\r\n",
      "[1] \"      val         \" \" Min.   :-4.5500  \" \" 1st Qu.:-0.4500  \"\r\n",
      "\r\n",
      "[4] \" Median : 0.1700  \" \" Mean   : 0.4715  \" \" 3rd Qu.: 0.8275  \"\r\n",
      "\r\n",
      "[7] \" Max.   :13.9100  \"\r\n",
      "\r\n",
      "\r\n",
      "\r\n",
      "[[11]]\r\n",
      "\r\n",
      "[1] \"      val       \" \" Min.   :2.440  \" \" 1st Qu.:5.125  \" \" Median :6.020  \"\r\n",
      "\r\n",
      "[5] \" Mean   :5.125  \" \" 3rd Qu.:6.020  \" \" Max.   :6.020  \"\r\n",
      "\r\n",
      "\r\n",
      "\r\n",
      "[[12]]\r\n",
      "\r\n",
      "[1] \"      val         \" \" Min.   :-8.8400  \" \" 1st Qu.:-0.3700  \"\r\n",
      "\r\n",
      "[4] \" Median : 0.8800  \" \" Mean   : 0.7305  \" \" 3rd Qu.: 1.9500  \"\r\n",
      "\r\n",
      "[7] \" Max.   : 9.5600  \"\r\n",
      "\r\n",
      "\r\n",
      "\r\n",
      "[[13]]\r\n",
      "\r\n",
      "[1] \"      val         \" \" Min.   :-9.3200  \" \" 1st Qu.:-0.7700  \"\r\n",
      "\r\n",
      "[4] \" Median : 1.0300  \" \" Mean   : 0.9781  \" \" 3rd Qu.: 2.3900  \"\r\n",
      "\r\n",
      "[7] \" Max.   :12.1600  \"\r\n",
      "\r\n",
      "\r\n",
      "\r\n",
      "[[14]]\r\n",
      "\r\n",
      "[1] \"      val         \" \" Min.   :-7.4800  \" \" 1st Qu.:-0.7950  \"\r\n",
      "\r\n",
      "[4] \" Median : 0.3600  \" \" Mean   : 0.4589  \" \" 3rd Qu.: 1.3250  \"\r\n",
      "\r\n",
      "[7] \" Max.   :12.2400  \"\r\n",
      "\r\n",
      "\r\n",
      "\r\n",
      "[[15]]\r\n",
      "\r\n",
      "[1] \"      val          \" \" Min.   :-13.0100  \" \" 1st Qu.: -1.2400  \"\r\n",
      "\r\n",
      "[4] \" Median :  0.3700  \" \" Mean   :  0.4399  \" \" 3rd Qu.:  1.9900  \"\r\n",
      "\r\n",
      "[7] \" Max.   : 13.4300  \"\r\n",
      "\r\n",
      "\r\n",
      "\r\n",
      "[[16]]\r\n",
      "\r\n",
      "[1] \"      val        \" \" Min.   :-0.180  \" \" 1st Qu.: 1.335  \"\r\n",
      "\r\n",
      "[4] \" Median : 2.530  \" \" Mean   : 2.260  \" \" 3rd Qu.: 3.455  \"\r\n",
      "\r\n",
      "[7] \" Max.   : 4.160  \"\r\n",
      "\r\n",
      "\r\n",
      "\r\n",
      "[[17]]\r\n",
      "\r\n",
      "[1] \"      val         \" \" Min.   :-7.1800  \" \" 1st Qu.:-2.5700  \"\r\n",
      "\r\n",
      "[4] \" Median : 1.0500  \" \" Mean   : 0.8046  \" \" 3rd Qu.: 3.4975  \"\r\n",
      "\r\n",
      "[7] \" Max.   :11.7300  \"\r\n",
      "\r\n",
      "\r\n",
      "\r\n",
      "[[18]]\r\n",
      "\r\n",
      "[1] \"      val         \" \" Min.   :-14.170  \" \" 1st Qu.: -0.310  \"\r\n",
      "\r\n",
      "[4] \" Median :  1.450  \" \" Mean   :  1.594  \" \" 3rd Qu.:  3.410  \"\r\n",
      "\r\n",
      "[7] \" Max.   : 15.300  \"\r\n",
      "\r\n",
      "\r\n",
      "\r\n",
      "[[19]]\r\n",
      "\r\n",
      "[1] \"      val          \" \" Min.   :-10.8500  \" \" 1st Qu.: -0.1200  \"\r\n",
      "\r\n",
      "[4] \" Median :  1.6300  \" \" Mean   :  0.9713  \" \" 3rd Qu.:  3.1700  \"\r\n",
      "\r\n",
      "[7] \" Max.   : 14.8200  \"\r\n",
      "\r\n",
      "\r\n",
      "\r\n",
      "[[20]]\r\n",
      "\r\n",
      "[1] \"      val        \" \" Min.   :-8.790  \" \" 1st Qu.: 0.800  \"\r\n",
      "\r\n",
      "[4] \" Median : 2.320  \" \" Mean   : 2.335  \" \" 3rd Qu.: 3.970  \"\r\n",
      "\r\n",
      "[7] \" Max.   :11.730  \"\r\n",
      "\r\n",
      "\r\n",
      "\r\n",
      "[[21]]\r\n",
      "\r\n",
      "[1] \"      val         \" \" Min.   :-20.370  \" \" 1st Qu.: -0.200  \"\r\n",
      "\r\n",
      "[4] \" Median :  1.410  \" \" Mean   :  1.397  \" \" 3rd Qu.:  3.070  \"\r\n",
      "\r\n",
      "[7] \" Max.   : 18.820  \"\r\n",
      "\r\n",
      "\r\n",
      "\r\n",
      "[[22]]\r\n",
      "\r\n",
      "[1] \"      val         \" \" Min.   :-19.280  \" \" 1st Qu.: -0.190  \"\r\n",
      "\r\n",
      "[4] \" Median :  1.640  \" \" Mean   :  1.728  \" \" 3rd Qu.:  3.890  \"\r\n",
      "\r\n",
      "[7] \" Max.   : 17.200  \"\r\n",
      "\r\n",
      "\r\n",
      "\r\n",
      "[[23]]\r\n",
      "\r\n",
      "[1] \"      val        \" \" Min.   :-3.270  \" \" 1st Qu.: 0.280  \"\r\n",
      "\r\n",
      "[4] \" Median : 1.860  \" \" Mean   : 2.531  \" \" 3rd Qu.: 4.620  \"\r\n",
      "\r\n",
      "[7] \" Max.   :12.860  \"\r\n",
      "\r\n",
      "\r\n",
      "\r\n",
      "[[24]]\r\n",
      "\r\n",
      "[1] \"      val          \" \" Min.   :-17.0200  \" \" 1st Qu.:  0.0000  \"\r\n",
      "\r\n",
      "[4] \" Median :  0.0000  \" \" Mean   :  0.6846  \" \" 3rd Qu.:  1.7600  \"\r\n",
      "\r\n",
      "[7] \" Max.   : 15.2800  \"\r\n",
      "\r\n",
      "\r\n",
      "\n"
     ]
    }
   ],
   "source": [
    "%R -o sumList\n",
    "print sumList"
   ]
  },
  {
   "cell_type": "markdown",
   "metadata": {},
   "source": [
    "<b>Summary Discussion</b><br>\n",
    "With few exceptions, the valence tends to be positive. This is interesting especially because the valence dictionary is slightly skewed negative, and all these tweets are about terrorist groups. If the sentiment analysis is picking up on what I hope it's picking up on, this may suggest that more supporters tweet about a search term than detractors. I won't be sure that this is the case until I've hand coded a training set, at which point I'll be able to use a machine learning algorithm. <br>\n",
    "The means also tend to be pretty close to the medians, which is a first cut look suggesting that the distributions are likely not skewed.<br><br>\n",
    "Although I plan to eventually use a machine learning algorithm, this valence analysis is still useful. It would be interesting to explore the valence of the language used by supporters and detractors, to see if it systematically differs.  I have a script that does this in matlab, and produces some cool heatmaps. The valence patterns can be correlated with Lisa's new ISIS tweet sentiment training set."
   ]
  },
  {
   "cell_type": "markdown",
   "metadata": {},
   "source": [
    "<b>View Outliers</b>"
   ]
  },
  {
   "cell_type": "code",
   "execution_count": 470,
   "metadata": {
    "collapsed": false
   },
   "outputs": [
    {
     "name": "stdout",
     "output_type": "stream",
     "text": [
      "Unable to unlink tempfile c:\\users\\laila\\appdata\\local\\temp\\tmpbxeyfv\n",
      "[[1]]\r\n",
      "\r\n",
      "\r\n",
      "\r\n",
      "\tGrubbs test for one outlier\r\n",
      "\r\n",
      "\r\n",
      "\r\n",
      "data:  clusterVar[[term]]$val\r\n",
      "\r\n",
      "G = 4.8151, U = 0.9929, p-value = 0.004621\r\n",
      "\r\n",
      "alternative hypothesis: lowest value -11.83 is an outlier\r\n",
      "\r\n",
      "\r\n",
      "\r\n",
      "\r\n",
      "\r\n",
      "[[2]]\r\n",
      "\r\n",
      "\r\n",
      "\r\n",
      "\tGrubbs test for one outlier\r\n",
      "\r\n",
      "\r\n",
      "\r\n",
      "data:  clusterVar[[term]]$val\r\n",
      "\r\n",
      "G = 4.3936, U = 0.9701, p-value = 0.006231\r\n",
      "\r\n",
      "alternative hypothesis: highest value 13.91 is an outlier\r\n",
      "\r\n",
      "\r\n",
      "\r\n",
      "\r\n",
      "\r\n",
      "[[3]]\r\n",
      "\r\n",
      "\r\n",
      "\r\n",
      "\tGrubbs test for one outlier\r\n",
      "\r\n",
      "\r\n",
      "\r\n",
      "data:  clusterVar[[term]]$val\r\n",
      "\r\n",
      "G = 3.151, U = 0.967, p-value = 0.4543\r\n",
      "\r\n",
      "alternative hypothesis: highest value 7.82 is an outlier\r\n",
      "\r\n",
      "\r\n",
      "\r\n",
      "\r\n",
      "\r\n",
      "[[4]]\r\n",
      "\r\n",
      "\r\n",
      "\r\n",
      "\tGrubbs test for one outlier\r\n",
      "\r\n",
      "\r\n",
      "\r\n",
      "data:  clusterVar[[term]]$val\r\n",
      "\r\n",
      "G = 3.2130, U = 0.9235, p-value = 0.1468\r\n",
      "\r\n",
      "alternative hypothesis: highest value 8.24 is an outlier\r\n",
      "\r\n",
      "\r\n",
      "\r\n",
      "\r\n",
      "\r\n",
      "[[5]]\r\n",
      "\r\n",
      "\r\n",
      "\r\n",
      "\tGrubbs test for one outlier\r\n",
      "\r\n",
      "\r\n",
      "\r\n",
      "data:  clusterVar[[term]]$val\r\n",
      "\r\n",
      "G = 5.6064, U = 0.8571, p-value = 1.329e-06\r\n",
      "\r\n",
      "alternative hypothesis: lowest value -6.11 is an outlier\r\n",
      "\r\n",
      "\r\n",
      "\r\n",
      "\r\n",
      "\r\n",
      "[[6]]\r\n",
      "\r\n",
      "\r\n",
      "\r\n",
      "\tGrubbs test for one outlier\r\n",
      "\r\n",
      "\r\n",
      "\r\n",
      "data:  clusterVar[[term]]$val\r\n",
      "\r\n",
      "G = 2.7986, U = 0.9528, p-value = 0.7864\r\n",
      "\r\n",
      "alternative hypothesis: highest value 9.63 is an outlier\r\n",
      "\r\n",
      "\r\n",
      "\r\n",
      "\r\n",
      "\r\n",
      "[[7]]\r\n",
      "\r\n",
      "\r\n",
      "\r\n",
      "\tGrubbs test for one outlier\r\n",
      "\r\n",
      "\r\n",
      "\r\n",
      "data:  clusterVar[[term]]$val\r\n",
      "\r\n",
      "G = 1.0445, U = 0.8800, p-value < 2.2e-16\r\n",
      "\r\n",
      "alternative hypothesis: highest value 0.35 is an outlier\r\n",
      "\r\n",
      "\r\n",
      "\r\n",
      "\r\n",
      "\r\n",
      "[[8]]\r\n",
      "\r\n",
      "\r\n",
      "\r\n",
      "\tGrubbs test for one outlier\r\n",
      "\r\n",
      "\r\n",
      "\r\n",
      "data:  clusterVar[[term]]$val\r\n",
      "\r\n",
      "G = 3.8133, U = 0.9231, p-value = 0.01957\r\n",
      "\r\n",
      "alternative hypothesis: highest value 6.3 is an outlier\r\n",
      "\r\n",
      "\r\n",
      "\r\n",
      "\r\n",
      "\r\n",
      "[[9]]\r\n",
      "\r\n",
      "\r\n",
      "\r\n",
      "\tGrubbs test for one outlier\r\n",
      "\r\n",
      "\r\n",
      "\r\n",
      "data:  clusterVar[[term]]$val\r\n",
      "\r\n",
      "G = 1.8850, U = 0.7057, p-value = 0.6303\r\n",
      "\r\n",
      "alternative hypothesis: highest value 4.24 is an outlier\r\n",
      "\r\n",
      "\r\n",
      "\r\n",
      "\r\n",
      "\r\n",
      "[[10]]\r\n",
      "\r\n",
      "\r\n",
      "\r\n",
      "\tGrubbs test for one outlier\r\n",
      "\r\n",
      "\r\n",
      "\r\n",
      "data:  clusterVar[[term]]$val\r\n",
      "\r\n",
      "G = 5.0650, U = 0.7328, p-value = 4.958e-06\r\n",
      "\r\n",
      "alternative hypothesis: highest value 13.91 is an outlier\r\n",
      "\r\n",
      "\r\n",
      "\r\n",
      "\r\n",
      "\r\n",
      "[[11]]\r\n",
      "\r\n",
      "\r\n",
      "\r\n",
      "\tGrubbs test for one outlier\r\n",
      "\r\n",
      "\r\n",
      "\r\n",
      "data:  clusterVar[[term]]$val\r\n",
      "\r\n",
      "G = 1.5, U = 0.0, p-value < 2.2e-16\r\n",
      "\r\n",
      "alternative hypothesis: lowest value 2.44 is an outlier\r\n",
      "\r\n",
      "\r\n",
      "\r\n",
      "\r\n",
      "\r\n",
      "[[12]]\r\n",
      "\r\n",
      "\r\n",
      "\r\n",
      "\tGrubbs test for one outlier\r\n",
      "\r\n",
      "\r\n",
      "\r\n",
      "data:  clusterVar[[term]]$val\r\n",
      "\r\n",
      "G = 4.6368, U = 0.9908, p-value = 0.007875\r\n",
      "\r\n",
      "alternative hypothesis: lowest value -8.84 is an outlier\r\n",
      "\r\n",
      "\r\n",
      "\r\n",
      "\r\n",
      "\r\n",
      "[[13]]\r\n",
      "\r\n",
      "\r\n",
      "\r\n",
      "\tGrubbs test for one outlier\r\n",
      "\r\n",
      "\r\n",
      "\r\n",
      "data:  clusterVar[[term]]$val\r\n",
      "\r\n",
      "G = 4.6252, U = 0.9977, p-value = 0.0347\r\n",
      "\r\n",
      "alternative hypothesis: highest value 12.16 is an outlier\r\n",
      "\r\n",
      "\r\n",
      "\r\n",
      "\r\n",
      "\r\n",
      "[[14]]\r\n",
      "\r\n",
      "\r\n",
      "\r\n",
      "\tGrubbs test for one outlier\r\n",
      "\r\n",
      "\r\n",
      "\r\n",
      "data:  clusterVar[[term]]$val\r\n",
      "\r\n",
      "G = 4.3342, U = 0.9046, p-value = 0.001811\r\n",
      "\r\n",
      "alternative hypothesis: highest value 12.24 is an outlier\r\n",
      "\r\n",
      "\r\n",
      "\r\n",
      "\r\n",
      "\r\n",
      "[[15]]\r\n",
      "\r\n",
      "\r\n",
      "\r\n",
      "\tGrubbs test for one outlier\r\n",
      "\r\n",
      "\r\n",
      "\r\n",
      "data:  clusterVar[[term]]$val\r\n",
      "\r\n",
      "G = 4.8339, U = 0.9980, p-value = 0.01583\r\n",
      "\r\n",
      "alternative hypothesis: lowest value -13.01 is an outlier\r\n",
      "\r\n",
      "\r\n",
      "\r\n",
      "\r\n",
      "\r\n",
      "[[16]]\r\n",
      "\r\n",
      "\r\n",
      "\r\n",
      "\tGrubbs test for one outlier\r\n",
      "\r\n",
      "\r\n",
      "\r\n",
      "data:  clusterVar[[term]]$val\r\n",
      "\r\n",
      "G = 1.2943, U = 0.2554, p-value = 0.5485\r\n",
      "\r\n",
      "alternative hypothesis: lowest value -0.18 is an outlier\r\n",
      "\r\n",
      "\r\n",
      "\r\n",
      "\r\n",
      "\r\n",
      "[[17]]\r\n",
      "\r\n",
      "\r\n",
      "\r\n",
      "\tGrubbs test for one outlier\r\n",
      "\r\n",
      "\r\n",
      "\r\n",
      "data:  clusterVar[[term]]$val\r\n",
      "\r\n",
      "G = 2.7563, U = 0.9667, p-value = 0.7368\r\n",
      "\r\n",
      "alternative hypothesis: highest value 11.73 is an outlier\r\n",
      "\r\n",
      "\r\n",
      "\r\n",
      "\r\n",
      "\r\n",
      "[[18]]\r\n",
      "\r\n",
      "\r\n",
      "\r\n",
      "\tGrubbs test for one outlier\r\n",
      "\r\n",
      "\r\n",
      "\r\n",
      "data:  clusterVar[[term]]$val\r\n",
      "\r\n",
      "G = 4.8413, U = 0.9980, p-value = 0.01476\r\n",
      "\r\n",
      "alternative hypothesis: lowest value -14.17 is an outlier\r\n",
      "\r\n",
      "\r\n",
      "\r\n",
      "\r\n",
      "\r\n",
      "[[19]]\r\n",
      "\r\n",
      "\r\n",
      "\r\n",
      "\tGrubbs test for one outlier\r\n",
      "\r\n",
      "\r\n",
      "\r\n",
      "data:  clusterVar[[term]]$val\r\n",
      "\r\n",
      "G = 3.7178, U = 0.9989, p-value < 2.2e-16\r\n",
      "\r\n",
      "alternative hypothesis: highest value 14.82 is an outlier\r\n",
      "\r\n",
      "\r\n",
      "\r\n",
      "\r\n",
      "\r\n",
      "[[20]]\r\n",
      "\r\n",
      "\r\n",
      "\r\n",
      "\tGrubbs test for one outlier\r\n",
      "\r\n",
      "\r\n",
      "\r\n",
      "data:  clusterVar[[term]]$val\r\n",
      "\r\n",
      "G = 3.9773, U = 0.9942, p-value = 0.1876\r\n",
      "\r\n",
      "alternative hypothesis: lowest value -8.79 is an outlier\r\n",
      "\r\n",
      "\r\n",
      "\r\n",
      "\r\n",
      "\r\n",
      "[[21]]\r\n",
      "\r\n",
      "\r\n",
      "\r\n",
      "\tGrubbs test for one outlier\r\n",
      "\r\n",
      "\r\n",
      "\r\n",
      "data:  clusterVar[[term]]$val\r\n",
      "\r\n",
      "G = 7.6195, U = 0.9953, p-value = 2.906e-10\r\n",
      "\r\n",
      "alternative hypothesis: lowest value -20.37 is an outlier\r\n",
      "\r\n",
      "\r\n",
      "\r\n",
      "\r\n",
      "\r\n",
      "[[22]]\r\n",
      "\r\n",
      "\r\n",
      "\r\n",
      "\tGrubbs test for one outlier\r\n",
      "\r\n",
      "\r\n",
      "\r\n",
      "data:  clusterVar[[term]]$val\r\n",
      "\r\n",
      "G = 5.8993, U = 0.9960, p-value = 3.068e-05\r\n",
      "\r\n",
      "alternative hypothesis: lowest value -19.28 is an outlier\r\n",
      "\r\n",
      "\r\n",
      "\r\n",
      "\r\n",
      "\r\n",
      "[[23]]\r\n",
      "\r\n",
      "\r\n",
      "\r\n",
      "\tGrubbs test for one outlier\r\n",
      "\r\n",
      "\r\n",
      "\r\n",
      "data:  clusterVar[[term]]$val\r\n",
      "\r\n",
      "G = 3.433, U = 0.976, p-value = 0.2748\r\n",
      "\r\n",
      "alternative hypothesis: highest value 12.86 is an outlier\r\n",
      "\r\n",
      "\r\n",
      "\r\n",
      "\r\n",
      "\r\n",
      "[[24]]\r\n",
      "\r\n",
      "\r\n",
      "\r\n",
      "\tGrubbs test for one outlier\r\n",
      "\r\n",
      "\r\n",
      "\r\n",
      "data:  clusterVar[[term]]$val\r\n",
      "\r\n",
      "G = 6.6794, U = 0.9955, p-value = 2.283e-07\r\n",
      "\r\n",
      "alternative hypothesis: lowest value -17.02 is an outlier\r\n",
      "\r\n",
      "\r\n",
      "\r\n",
      "\r\n",
      "\n"
     ]
    }
   ],
   "source": [
    "%R -o outlierList\n",
    "print outlierList"
   ]
  },
  {
   "cell_type": "markdown",
   "metadata": {},
   "source": [
    "<b>Outlier Discussion:</b><br>\n",
    "Most of the terms appear to have at least one outlier. Exceptions are:\n",
    "<br>3, 6, 9, 16, 17, 20, 23, and possibly 4.<br>\n",
    "For my analysis I think that's okay, but if I wanted to remove them, I would remove each outlier and then re-run the test to identify additional outliers. "
   ]
  },
  {
   "cell_type": "markdown",
   "metadata": {},
   "source": [
    "<b>Histograms for each term's valence</b><br>\n",
    "Number 24 is the original dataset, 1-23 are the search terms that correspond to the terms in the text file in the working directory.<br>\n",
    "Repated multiplot line twice so that it would save and print below. Sizing is much better in the saved image. But note, it only plots sometimes. I don't know why. Also note that the plot below only plots sometimes. It's another rpy2 bug that's pretty common. If it doesn't, try another couple times and it might. The jpeg <i>should</i> populate either way.\n",
    "<br> This is a good first view, but the matlab heatmaps are more telling."
   ]
  },
  {
   "cell_type": "code",
   "execution_count": 472,
   "metadata": {
    "collapsed": false
   },
   "outputs": [
    {
     "data": {
      "image/png": "[encoded data removed]"
     },
     "metadata": {},
     "output_type": "display_data"
    }
   ],
   "source": [
    "%%R \n",
    "jpeg(filename = \"histFig.jpg\", width= 1600, height= 2400, pointsize =12, quality = 400, bg = \"white\", res = NA, restoreConsole = TRUE) \n",
    "multiplot(plotlist=Hplots,cols=4)\n",
    "dev.off()\n",
    "multiplot(plotlist=Hplots,cols=4)"
   ]
  },
  {
   "cell_type": "markdown",
   "metadata": {},
   "source": [
    "<b>Free memory</b><br>\n",
    "About out of available memory in rpy2, and the next step takes a lot, so remove variables no longer needed. Can always pull them back from the previous checkpoint"
   ]
  },
  {
   "cell_type": "code",
   "execution_count": 473,
   "metadata": {
    "collapsed": false
   },
   "outputs": [],
   "source": [
    "%%R \n",
    "rm(affDict, colNms, el, iClustVars, iTweets, itweetWords,\n",
    "TaffectList, termClustVars, termList, text_struct_affect,\n",
    "text_structEC, tmpMat, tmpVect, tweet, TwordList)"
   ]
  },
  {
   "cell_type": "markdown",
   "metadata": {},
   "source": [
    "<b>Checkpoint 2</b>"
   ]
  },
  {
   "cell_type": "code",
   "execution_count": 474,
   "metadata": {
    "collapsed": false
   },
   "outputs": [],
   "source": [
    "%%R \n",
    "save.image(file=\"checkpoint2.RData\")"
   ]
  },
  {
   "cell_type": "markdown",
   "metadata": {},
   "source": [
    "### Clustering"
   ]
  },
  {
   "cell_type": "markdown",
   "metadata": {},
   "source": [
    "<b>Cluster</b> by the distribution of positive and negative words.<br>\n",
    "Note: When plotting with clusplot, save to jpeg or rpy2 will crash. <br>\n",
    "Try:<br>\n",
    "k-means<br>  -k=4 gave reasonable improvements in clustering subs of squares, but the charts don't look great, which suggests there may not actually be distinct clusters.   <br>\n",
    "dbscan<br>  -threshold around .37 looked good\n",
    "hierarchical<br>\n",
    "<u>Note</u>: terms 7 9 10 11 and 16 are too small, so I skipped them.<br>\n",
    "<u>Note2</u>: no clue why, but clusplot errors out for term 1. I went through step by step and looked at the data, and it looks the same as the data for the rest of the terms, and it clusters just fine, but it doesn't plot. So I skipped 1.\n",
    "Note 3: I run out of memory in the workspace when doing this sometimes. I saved the output PDF as clusFigBackUp so that it wouldn't get overwritten with half a try. It runs better in R proper where there aren't as many memory limitations."
   ]
  },
  {
   "cell_type": "code",
   "execution_count": 718,
   "metadata": {
    "collapsed": false
   },
   "outputs": [
    {
     "name": "stdout",
     "output_type": "stream",
     "text": [
      "\n",
      "Error: cannot allocate vector of size 336.2 Mb\n"
     ]
    }
   ],
   "source": [
    "%%R\n",
    "kOut<-list()\n",
    "kPlots<-list()\n",
    "dbOut<-list()\n",
    "dbPlots<-list()\n",
    "hPlots<-list()\n",
    "pdf(file = \"clusFig.pdf\") \n",
    "i=0\n",
    "for(term in 2:24){\n",
    "    if(term!=7 & term!=9 & term!=10 & term!=11 & term!=16){\n",
    "    kOut[[term]]<-kmeans(clusterVar[[term]][1:5],4)\n",
    "    kPlots[[term]]<-data.frame(clusterVar[[term]][1:5], kOut[[term]]$cluster)\n",
    "    if(term!=1){kPlots[[term]]<-clusplot(kPlots[[term]], kOut[[term]]$cluster)}\n",
    "    d<-dist(clusterVar[[term]][1:5], method=\"euclidean\")\n",
    "    hOut<-hclust(d, method=\"complete\")\n",
    "    hPlots[[term]]<-plot(hOut)\n",
    "    dbOut[[term]]<-dbscan(clusterVar[[term]][1:5],.37)\n",
    "    dbPlots[[term]]<-plot(dbOut[[term]],clusterVar[[term]][1:5])\n",
    "}}\n",
    "dev.off()"
   ]
  },
  {
   "cell_type": "markdown",
   "metadata": {},
   "source": [
    "<b>Clustering Discussion</b><br>\n",
    "Looking at the dbscan plots is revealing. Most tweets are in one cluster, while tweets that are in corners have their own clusters. These corner tweets are tweets with zero words in a given set of columns, or a high number of words in one column and none in another. This might be an interesting way to look at the data, because these clusters capture extremes. For example, there tend to be clusters scoring high on the very negative attribute, and low everywhere else. These might have more extreme affect than other tweets. Or they only have very few words that were in the affect dictionary. At this point it is hard to tell which. <br>\n",
    "The kmeans didn't do well, but it's also hard to assess when it is flattened into two dimensions. For example, clustering looks highly overlapped, even when the within sum of squares divided by the total sum of squares is minimized substantially. It is similarly difficult to interpret hierarchical outcomes. When I have a hand coded training data set, I will be able to see if there is anything interesting in these patterns. "
   ]
  },
  {
   "cell_type": "markdown",
   "metadata": {},
   "source": [
    "###  Network Analysis"
   ]
  },
  {
   "cell_type": "markdown",
   "metadata": {},
   "source": [
    "<b>Import  adjacency matrix from before</b>, (unless already in memory)<br>\n",
    "Merge search terms that are for the same group, such as ISIL and ISIS, and NUSRA and Al-Nusra<br>\n",
    "Save a version with the diagonals, adjMatD<br>\n",
    "Create a normalized version, to make a weighted adjacency matrix ready for igraph\n"
   ]
  },
  {
   "cell_type": "code",
   "execution_count": 517,
   "metadata": {
    "collapsed": false
   },
   "outputs": [],
   "source": [
    "%%R\n",
    "adjMat<-read.csv(\"userAdjacencyMat.csv\", header=FALSE)\n",
    "adjMat<-as.matrix(adjMat)\n",
    "\n",
    "#Merge ISIS\n",
    "adjMat[,18:23]<-rowSums(adjMat[,18:23])\n",
    "adjMat<-adjMat[,-19:-23]\n",
    "adjMat[18,]<-colSums(adjMat[18:23,])\n",
    "adjMat<-adjMat[-19:-23,]\n",
    "\n",
    "#Merge Nusra\n",
    "adjMat[,12:17]<-rowSums(adjMat[,12:17])\n",
    "adjMat<-adjMat[,-13:-17]\n",
    "adjMat[12,]<-colSums(adjMat[12:17,])\n",
    "adjMat<-adjMat[-13:-17,]\n",
    "\n",
    "#Merge Jaysh al-Islam\n",
    "adjMat[,4:7]<-rowSums(adjMat[,4:7])\n",
    "adjMat<-adjMat[,-5:-7]\n",
    "adjMat[4,]<-colSums(adjMat[4:7,])\n",
    "adjMat<-adjMat[-5:-7,]\n",
    "\n",
    "adjMatD<-adjMat\n",
    "for(i in 1:10){adjMat[i,i]=0}\n",
    "\n",
    "adjMatN<-adjMat/max(adjMat)\n",
    "\n",
    "tweetGraph<-graph.adjacency(adjMatN,mode=\"undirected\",weighted=TRUE)"
   ]
  },
  {
   "cell_type": "markdown",
   "metadata": {},
   "source": [
    "<b>Network Analysis</b><br>\n",
    "Run these analyses:\n",
    "degree cent<br>\n",
    "assess degree distribution, plot with hist<br>\n",
    "betweeness<br>\n",
    "clustering coef<br>\n",
    "averages of above<br>\n",
    "density<br>\n",
    "diameter<br>\n",
    "components<br>\n",
    "k-core<br>\n",
    "edge betweeness clusters\n"
   ]
  },
  {
   "cell_type": "code",
   "execution_count": 719,
   "metadata": {
    "collapsed": false
   },
   "outputs": [
    {
     "data": {
      "image/png": "[encoded data removed]"
     },
     "metadata": {},
     "output_type": "display_data"
    },
    {
     "data": {
      "image/png": "[encoded data removed]"
     },
     "metadata": {},
     "output_type": "display_data"
    }
   ],
   "source": [
    "%%R\n",
    "tweetDeg<-degree(tweetGraph)\n",
    "hist(tweetDeg)\n",
    "twtSNA<-data.frame(degree=tweetDeg)\n",
    "twtDgrDist<-degree.distribution(tweetGraph)\n",
    "\n",
    "twtSNA$betweenness<-betweenness(tweetGraph,directed=FALSE)\n",
    "twtSNA$clusterCoef<-transitivity(tweetGraph, type=c(\"local\"))\n",
    "a<-capture.output(print(summary(twtSNA)))\n",
    "\n",
    "twtDense<-graph.density(tweetGraph)\n",
    "twtDiam<-diameter(tweetGraph)\n",
    "\n",
    "twtComps<-clusters(tweetGraph)\n",
    "twtCores<-graph.coreness(tweetGraph)\n",
    "twtClustsEB<-edge.betweenness.community(tweetGraph)\n",
    "fg<-fastgreedy.community(tweetGraph,merges=TRUE,modularity=TRUE)\n",
    "twtClustsMod<-community.to.membership(tweetGraph,fg$merges,steps=which.max(fg$modularity)-1)\n",
    "plot(tweetGraph)"
   ]
  },
  {
   "cell_type": "markdown",
   "metadata": {},
   "source": [
    "Output:"
   ]
  },
  {
   "cell_type": "code",
   "execution_count": 275,
   "metadata": {
    "collapsed": false
   },
   "outputs": [
    {
     "name": "stdout",
     "output_type": "stream",
     "text": [
      "['     degree      betweenness     clusterCoef    '\n",
      " ' Min.   :0.00   Min.   : 0.00   Min.   :0.7857  '\n",
      " ' 1st Qu.:5.25   1st Qu.: 0.00   1st Qu.:0.7857  '\n",
      " ' Median :6.50   Median : 2.50   Median :0.9048  '\n",
      " ' Mean   :6.00   Mean   : 3.80   Mean   :0.8942  '\n",
      " ' 3rd Qu.:8.00   3rd Qu.: 5.75   3rd Qu.:1.0000  '\n",
      " ' Max.   :8.00   Max.   :15.00   Max.   :1.0000  '\n",
      " \"                                NA's   :1       \"]\n"
     ]
    }
   ],
   "source": [
    "%R -o a\n",
    "print a"
   ]
  },
  {
   "cell_type": "markdown",
   "metadata": {},
   "source": [
    "The graph is small and dense, with a degree distribution as shown in the histogram above. The graph is dense, so each node has a probability of having many ties given it's size.  Because it is small and dense, it has a small diameter, equal to 0.07641. It is a weighted graph, though, so not all degrees are equally powerful and the diameter does not fully capture the capacity for information to move across the network. <br>\n",
    "There are two components, the main comonent, and the group in term 11 which is alone.<br>\n",
    "The average degree is 6, the average betweenness is 2.8, and the average clustering coefficient is .8942, as found in the summary of the twtSNA dataframe. <br>\n",
    "The largest k-core is made up of groups 1,2,3,4,8,9 and 12. Note that these number indecies are according to their position in the term list, not their position in the adjacency matrix<br>\n",
    "Edge betweeness put all the groups in the main component in the same cluster, with the singleton 11 in its own cluster. Not a very interesting clustering, but apt. Modularity also put 11 in its own category, put 1 and 18 in a category, and left everyone else out. This is puzzling, since 1 and 2 have similar patterns, and 12 and 18 have similar patterns. I don't think modularity did as well. \n"
   ]
  },
  {
   "cell_type": "markdown",
   "metadata": {},
   "source": [
    "### Correlation"
   ]
  },
  {
   "cell_type": "markdown",
   "metadata": {},
   "source": [
    "<b>Correlation: Create data</b><br>\n",
    "Are tweets with a certain affective valence more likely to be retweeted? I will look for correlations between the affective rating, and whether the tweet is a retweet. Retweeted tweets begin with an RT. Another way to do this would be to pull the number of times a tweet was retweeted from my data, but since the original dataset does not have this information, I will use RT. <br><br>\n",
    "1) free up memory by removing the clustering variables, so that there's space for the text variables\n",
    "2) load checkpoint 1 to bring back the text structures<br>\n",
    "3) Loop through each search term, loop through each tweet, if the first word is RT, store a 1, if it is not RT, store a 0. <br>\n",
    "1) Repeat for original dataset. Loop through tweets, store RT Recall SubS refers to the subsection pulled in when doing the initial sentiment analysis. \n"
   ]
  },
  {
   "cell_type": "code",
   "execution_count": 543,
   "metadata": {
    "collapsed": false
   },
   "outputs": [
    {
     "data": {
      "text/plain": [
       "array(['a', 'b', 'c', 'd', 'i', 'j', 'multiplot', 'outlierList', 's',\n",
       "       'subS', 'sumList', 'term', 'v', 'val', 'word', 'workingDir'], \n",
       "      dtype='|S11')"
      ]
     },
     "execution_count": 543,
     "metadata": {},
     "output_type": "execute_result"
    }
   ],
   "source": [
    "%R ls()"
   ]
  },
  {
   "cell_type": "code",
   "execution_count": null,
   "metadata": {
    "collapsed": false
   },
   "outputs": [],
   "source": [
    "%R save(hPlots,hOut,Hplots,dbPlots,dbOut,kOut,kPlots, file=\"clusterData.RData\")\n",
    "%R rm(hPlots,hOut,dbPlots,dbOut,Hplots,kOut,kPlots)"
   ]
  },
  {
   "cell_type": "code",
   "execution_count": 540,
   "metadata": {
    "collapsed": false
   },
   "outputs": [],
   "source": [
    "%%R\n",
    "save(adjMat, adjMatD, adjMatN, tweetDeg, tweetGraph, twtClustsEB,\n",
    "        twtClustsMod,twtComps, twtCores, twtDense, twtDgrDist, twtDiam,\n",
    "        twtSNA, file=\"clusterData.RData\")\n",
    "rm(adjMat, adjMatD, adjMatN, tweetDeg, tweetGraph, twtClustsEB,\n",
    "        twtClustsMod,twtComps, twtCores, twtDense, twtDgrDist, twtDiam,\n",
    "        twtSNA, fg)"
   ]
  },
  {
   "cell_type": "code",
   "execution_count": 636,
   "metadata": {
    "collapsed": false
   },
   "outputs": [],
   "source": [
    "%%R\n",
    "load(\"checkpoint.RData\")"
   ]
  },
  {
   "cell_type": "code",
   "execution_count": 637,
   "metadata": {
    "collapsed": false
   },
   "outputs": [],
   "source": [
    "%%R\n",
    "rtVar<-list()\n",
    "for(term in 1:length(text_structEC)){\n",
    "    tmpMat=matrix(0,length(text_structEC[[term]]),1)\n",
    "    rtCol=data.frame(tmpMat)\n",
    "    colnames(TermClustVars)<-'rt'\n",
    "    for(tweet in 1:length(text_structEC[[term]])){\n",
    "        TwordList<-unlist(strsplit(text_structEC[[term]][tweet], '[ ]'))\n",
    "        rtCol[tweet,]<-TwordList[1]=='RT'\n",
    "    }\n",
    "    rtVar[[term]]<-rtCol\n",
    "}\n",
    "\n",
    "tmpMat=matrix(0,subS,1)\n",
    "rtCol=data.frame(tmpMat)\n",
    "colnames(TermClustVars)<-'rt'\n",
    "for(tweet in 1:subS){\n",
    "    TwordList<-unlist(strsplit(itweetWords[tweet][[1]], '[ ]'))\n",
    "    rtCol[tweet,]<-TwordList[1]=='RT'\n",
    "}\n",
    "rtVar[[length(text_structEC)+1]]<-rtCol"
   ]
  },
  {
   "cell_type": "code",
   "execution_count": 579,
   "metadata": {
    "collapsed": false
   },
   "outputs": [],
   "source": [
    "%%R \n",
    "save(rtVar, file = \"rtVariable.RData\")"
   ]
  },
  {
   "cell_type": "markdown",
   "metadata": {},
   "source": [
    "<b>Restructure data for correlation</b><br>\n",
    "Put values from rtVar and clusterVar in single data frame<br>\n",
    "Note: clusterVar is a slightly different length than rtVar, because it was built off of the affect variable. For a given term, if the last tweet had no matches in the affect dictionary, it was not included in clusterVar. because these values all had zeros, and we're going to delete the missing values anyway, it's okay to add in place holders. (I manually checked to make sure that the tweets lined up.) "
   ]
  },
  {
   "cell_type": "code",
   "execution_count": 639,
   "metadata": {
    "collapsed": false
   },
   "outputs": [],
   "source": [
    "%%R\n",
    "reservedClustVar<-clusterVar\n",
    "print('done')"
   ]
  },
  {
   "cell_type": "code",
   "execution_count": 679,
   "metadata": {
    "collapsed": false
   },
   "outputs": [],
   "source": [
    "%%R\n",
    "clusterVar<-reservedClustVar"
   ]
  },
  {
   "cell_type": "code",
   "execution_count": 699,
   "metadata": {
    "collapsed": false
   },
   "outputs": [],
   "source": [
    "%%R\n",
    "i=0\n",
    "rtAffectVar<-cbind(rtVar[[1]],clusterVar[[1]])\n",
    "i=1\n",
    "for(term in 2:length(clusterVar)){\n",
    "    if(length(clusterVar[[term]][[1]])!=length(rtVar[[term]][[1]])){\n",
    "        dif<-length(rtVar[[term]][[1]])-length(clusterVar[[term]][[1]])\n",
    "        tmpMat<-matrix(0,dif,7)\n",
    "        colnames(tmpMat)<-colnames(clusterVar[[term]])\n",
    "        a<-rbind(clusterVar[[term]],tmpMat)\n",
    "    }\n",
    "    else{a<-clusterVar[[term]]}\n",
    "    b<-cbind(rtVar[[term]],a)\n",
    "    rtAffectVar<-rbind(rtAffectVar,b)\n",
    "}\n",
    "rtAffectVarCut<-subset(rtAffectVar, tot>0)\n",
    "colnames(rtAffectVarCut)<-c('rt','vneg','mneg','nt','mpos','vpos','tot','val')"
   ]
  },
  {
   "cell_type": "markdown",
   "metadata": {},
   "source": [
    "<b>Correlation</b><br>\n",
    "1)Set retweet as categorical variable \n",
    "2) create logit, and linear models. Exclude one variable as reference variable, because the five add up to 1. Singular if you include them all. Left out the very positive from the logit, and the very negative from the linear model, but you can change them around to explore.\n",
    "3) store logit display for viewing, move to python, view in another cell (because rpy2 doesn't display things)"
   ]
  },
  {
   "cell_type": "code",
   "execution_count": 714,
   "metadata": {
    "collapsed": false
   },
   "outputs": [],
   "source": [
    "%%R\n",
    "FrtAffectVarCut<-rtAffectVarCut\n",
    "FrtAffectVarCut$rt<-factor(FrtAffectVarCut$rt)\n",
    "rtLogit<-glm(rt~vneg+mneg+nt+mpos, data=FrtAffectVarCut,\n",
    "             family=binomial(link=logit))\n",
    "rtLin<-lm(rt~mneg+nt+mpos+vpos, data=rtAffectVarCut)\n",
    "out<-capture.output(summary(rtLogit))\n",
    "out2<-capture.output(summary(rtLin))"
   ]
  },
  {
   "cell_type": "code",
   "execution_count": 715,
   "metadata": {
    "collapsed": false
   },
   "outputs": [
    {
     "name": "stdout",
     "output_type": "stream",
     "text": [
      "Logit\n",
      " \n",
      "['' 'Call:'\n",
      " 'glm(formula = rt ~ vneg + mneg + nt + mpos, family = binomial(link = logit), '\n",
      " '    data = FrtAffectVarCut)' '' 'Deviance Residuals: '\n",
      " '   Min      1Q  Median      3Q     Max  '\n",
      " '-1.383  -1.190   1.045   1.157   1.241  ' '' 'Coefficients:'\n",
      " '            Estimate Std. Error z value Pr(>|z|)    '\n",
      " '(Intercept)  0.33818    0.04889   6.917 4.61e-12 ***'\n",
      " 'vneg         0.13412    0.06455   2.078   0.0377 *  '\n",
      " 'mneg        -0.08363    0.05962  -1.403   0.1607    '\n",
      " 'nt          -0.48677    0.05634  -8.640  < 2e-16 ***'\n",
      " 'mpos        -0.33852    0.05345  -6.334 2.39e-10 ***' '---'\n",
      " \"Signif. codes:  0 '***' 0.001 '**' 0.01 '*' 0.05 '.' 0.1 ' ' 1\" ''\n",
      " '(Dispersion parameter for binomial family taken to be 1)' ''\n",
      " '    Null deviance: 115068  on 83056  degrees of freedom'\n",
      " 'Residual deviance: 114807  on 83052  degrees of freedom' 'AIC: 114817' ''\n",
      " 'Number of Fisher Scoring iterations: 3' '']\n",
      " \n",
      "Linear\n",
      " \n",
      "['' 'Call:'\n",
      " 'lm(formula = rt ~ mneg + nt + mpos + vpos, data = rtAffectVarCut)' ''\n",
      " 'Residuals:' '    Min      1Q  Median      3Q     Max '\n",
      " '-0.6171 -0.5072  0.4204  0.4882  0.5370 ' '' 'Coefficients:'\n",
      " '             Estimate Std. Error t value Pr(>|t|)    '\n",
      " '(Intercept)  0.617067   0.009937  62.098  < 2e-16 ***'\n",
      " 'mneg        -0.053646   0.013353  -4.018 5.88e-05 ***'\n",
      " 'nt          -0.154087   0.011692 -13.179  < 2e-16 ***'\n",
      " 'mpos        -0.117079   0.011271 -10.388  < 2e-16 ***'\n",
      " 'vpos        -0.032891   0.015976  -2.059   0.0395 *  ' '---'\n",
      " \"Signif. codes:  0 '***' 0.001 '**' 0.01 '*' 0.05 '.' 0.1 ' ' 1\" ''\n",
      " 'Residual standard error: 0.499 on 83052 degrees of freedom'\n",
      " 'Multiple R-squared:  0.003138,\\tAdjusted R-squared:  0.00309 '\n",
      " 'F-statistic: 65.35 on 4 and 83052 DF,  p-value: < 2.2e-16' '']\n"
     ]
    }
   ],
   "source": [
    "%R -o out \n",
    "%R -o out2\n",
    "print 'Logit'\n",
    "print ' '\n",
    "print out\n",
    "print ' '\n",
    "print 'Linear'\n",
    "print ' '\n",
    "print out2"
   ]
  },
  {
   "cell_type": "markdown",
   "metadata": {},
   "source": [
    "<b>Correlation Results:</b><br>\n",
    "The findings are intuitive. Being very positive is associated with being retweeted, but with low confidence. Being very negative, on the other hand, is statistically significantly associated with being retweeted, relative to more neutral or mild tweets. "
   ]
  },
  {
   "cell_type": "code",
   "execution_count": null,
   "metadata": {
    "collapsed": false
   },
   "outputs": [],
   "source": []
  }
 ],
 "metadata": {
  "kernelspec": {
   "display_name": "Python 2",
   "language": "python",
   "name": "python2"
  },
  "language_info": {
   "codemirror_mode": {
    "name": "ipython",
    "version": 2
   },
   "file_extension": ".py",
   "mimetype": "text/x-python",
   "name": "python",
   "nbconvert_exporter": "python",
   "pygments_lexer": "ipython2",
   "version": "2.7.10"
  }
 },
 "nbformat": 4,
 "nbformat_minor": 0
}
